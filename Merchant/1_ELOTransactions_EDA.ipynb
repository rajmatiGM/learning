{
 "cells": [
  {
   "cell_type": "code",
   "execution_count": null,
   "metadata": {},
   "outputs": [],
   "source": []
  },
  {
   "cell_type": "code",
   "execution_count": null,
   "metadata": {},
   "outputs": [],
   "source": []
  },
  {
   "cell_type": "markdown",
   "metadata": {},
   "source": [
    "### EDA for ELO Customer Transactions"
   ]
  },
  {
   "cell_type": "code",
   "execution_count": 4,
   "metadata": {},
   "outputs": [],
   "source": [
    "import pandas as pd\n",
    "import numpy as np\n",
    "import matplotlib.pyplot as plt\n",
    "%matplotlib inline\n",
    "import seaborn as sns\n",
    "from scipy.stats import norm\n",
    "import pandas_profiling\n",
    "import warnings\n",
    "warnings.filterwarnings('ignore')"
   ]
  },
  {
   "cell_type": "code",
   "execution_count": null,
   "metadata": {},
   "outputs": [],
   "source": [
    "\n",
    "pd.set_option('float_format', '{:f}'.format)\n",
    "pd.set_option('display.max_columns', None)"
   ]
  },
  {
   "cell_type": "code",
   "execution_count": null,
   "metadata": {},
   "outputs": [],
   "source": [
    "#loading csv\n",
    "hist_transactions = pd.read_csv('E:/ELOData/historical_transactions.csv',parse_dates=['purchase_date'])\n",
    "hist_transactions.head()"
   ]
  },
  {
   "cell_type": "code",
   "execution_count": null,
   "metadata": {},
   "outputs": [],
   "source": [
    "#loading csv\n",
    "new_merchant_transactions = pd.read_csv('E:/ELOData/new_merchant_transactions.csv',parse_dates=['purchase_date'])\n",
    "new_merchant_transactions.head()"
   ]
  },
  {
   "cell_type": "code",
   "execution_count": null,
   "metadata": {
    "scrolled": true
   },
   "outputs": [],
   "source": [
    "pandas_profiling.ProfileReport(hist_transactions)\n",
    "#Duplicate card ids which is expected as there are multiple transactions\n",
    "#category_2 has missing values "
   ]
  },
  {
   "cell_type": "code",
   "execution_count": null,
   "metadata": {},
   "outputs": [],
   "source": [
    "pandas_profiling.ProfileReport(new_merchant_transactions)"
   ]
  },
  {
   "cell_type": "markdown",
   "metadata": {},
   "source": [
    "## Looking at the profiling report and the correlation matrix here is what our next steps are : \n",
    "\n",
    "\n",
    "### There are missing values as NaNs , we try to impute them as below:\n",
    "\n",
    "* for category_3 we see that most of the observations fall in the category value A , hence we use that as our imputed value such that the distribution is not hampered.\n",
    "* for category_2 we see that most of the observations fall in the category value 1 , hence we use that as our imputed value such that the distribution is not hampered.\n",
    "    \n",
    "### Few columns have NaNs as values , which we dont impute or delete :\n",
    "\n",
    "* merchant_id field has missing values , however we dont drop those rows as they may beimportant from transactions per-say , we dont want to impute them as well \n",
    "\n",
    "#### We observe the columns like Installements and Purchase Amounts that are highly skewed\n",
    "#### We also do some EDA to check for cards who have purchased subscription based products like Netflix etc\n",
    "#### Looking at the correlation plots and correlation values for historical and new , we dont see very high correlation amonst the variables on both the data frames\n"
   ]
  },
  {
   "cell_type": "code",
   "execution_count": null,
   "metadata": {},
   "outputs": [],
   "source": [
    "hist_transactions.columns[hist_transactions.isna().any()].tolist()"
   ]
  },
  {
   "cell_type": "code",
   "execution_count": null,
   "metadata": {},
   "outputs": [],
   "source": [
    "sns.heatmap(hist_transactions.corr())\n"
   ]
  },
  {
   "cell_type": "code",
   "execution_count": null,
   "metadata": {},
   "outputs": [],
   "source": [
    "sns.heatmap(new_merchant_transactions_transactionstransactionstransactions.corr())"
   ]
  },
  {
   "cell_type": "code",
   "execution_count": null,
   "metadata": {},
   "outputs": [],
   "source": [
    "corrmat = hist_transactions.corr()\n",
    "k = 5 #Nor depth has any deep correlation with any other variable\n",
    "cols = corrmat.nlargest(k, 'purchase_amount')['purchase_amount'].index\n",
    "print(cols)\n",
    "fig = plt.figure(num=None, figsize=(12, 8)) \n",
    "cm = np.corrcoef(hist_transactions[cols].values.T)\n",
    "sns.set(font_scale=1.25)\n",
    "sns.heatmap(cm, cbar=True, annot=True, square=True, fmt='.2f', annot_kws={'size': 10}, yticklabels=cols.values, xticklabels=cols.values)\n",
    "plt.show()"
   ]
  },
  {
   "cell_type": "code",
   "execution_count": null,
   "metadata": {},
   "outputs": [],
   "source": [
    "#corrmat#.style.background_gradient(cmap=plt.get_cmap('coolwarm'), axis=1)#format(\"{:.2}\")#\n",
    "hist_transactions.corr()"
   ]
  },
  {
   "cell_type": "code",
   "execution_count": null,
   "metadata": {},
   "outputs": [],
   "source": [
    "hist_transactions[hist_transactions['merchant_category_id'].isnull()==True].shape"
   ]
  },
  {
   "cell_type": "code",
   "execution_count": null,
   "metadata": {},
   "outputs": [],
   "source": [
    "hist_transactions.describe()"
   ]
  },
  {
   "cell_type": "code",
   "execution_count": null,
   "metadata": {},
   "outputs": [],
   "source": [
    "print(hist_transactions['category_2'].value_counts(dropna=False))\n",
    "print(new_merchant_transactions['category_2'].value_counts(dropna=False))"
   ]
  },
  {
   "cell_type": "code",
   "execution_count": null,
   "metadata": {},
   "outputs": [],
   "source": [
    "print(hist_transactions.shape)\n",
    "print(new_merchant_transactions.shape)"
   ]
  },
  {
   "cell_type": "code",
   "execution_count": null,
   "metadata": {},
   "outputs": [],
   "source": [
    "hist_transactions.columns[hist_transactions.isna().any()].tolist()"
   ]
  },
  {
   "cell_type": "code",
   "execution_count": null,
   "metadata": {},
   "outputs": [],
   "source": [
    "new_merchant_transactions.columns[new_merchant_transactions.isnull().any()].tolist()"
   ]
  },
  {
   "cell_type": "code",
   "execution_count": null,
   "metadata": {},
   "outputs": [],
   "source": [
    "print(hist_transactions['authorized_flag'].value_counts(dropna=False))\n",
    "print(new_merchant_transactions['authorized_flag'].value_counts(dropna=False))"
   ]
  },
  {
   "cell_type": "code",
   "execution_count": null,
   "metadata": {
    "scrolled": true
   },
   "outputs": [],
   "source": [
    "print(hist_transactions['category_1'].value_counts(dropna=False))\n",
    "print(new_merchant_transactions['category_1'].value_counts(dropna=False))"
   ]
  },
  {
   "cell_type": "code",
   "execution_count": null,
   "metadata": {},
   "outputs": [],
   "source": [
    "print(hist_transactions['purchase_date'].min())\n",
    "print(hist_transactions['purchase_date'].max())\n",
    "print(new_merchant_transactions['purchase_date'].min())\n",
    "print(new_merchant_transactions['purchase_date'].max())"
   ]
  },
  {
   "cell_type": "code",
   "execution_count": null,
   "metadata": {},
   "outputs": [],
   "source": [
    "hist_transactions.fillna({x:1.0 for x in ['category_2']}, inplace=True)\n",
    "new_merchant_transactions.fillna({x:1.0 for x in ['category_2']}, inplace=True)"
   ]
  },
  {
   "cell_type": "code",
   "execution_count": null,
   "metadata": {},
   "outputs": [],
   "source": [
    "hist_transactions.columns[hist_transactions.isna().any()].tolist()"
   ]
  },
  {
   "cell_type": "code",
   "execution_count": null,
   "metadata": {},
   "outputs": [],
   "source": [
    "print(hist_transactions['category_3'].value_counts(dropna=False))\n",
    "print(new_merchant_transactions['category_3'].value_counts(dropna=False))"
   ]
  },
  {
   "cell_type": "code",
   "execution_count": null,
   "metadata": {},
   "outputs": [],
   "source": [
    "hist_transactions.fillna({x:'A' for x in ['category_3']}, inplace=True)\n",
    "new_merchant_transactions.fillna({x:'A' for x in ['category_3']}, inplace=True)"
   ]
  },
  {
   "cell_type": "code",
   "execution_count": null,
   "metadata": {},
   "outputs": [],
   "source": [
    "#We will not drop these records and later deal with these while modelling/aggregating\n",
    "print(hist_transactions[hist_transactions['merchant_id'].isna()==True].shape)\n",
    "print(new_merchant_transactions[new_merchant_transactions['merchant_id'].isna()==True].shape)"
   ]
  },
  {
   "cell_type": "code",
   "execution_count": null,
   "metadata": {},
   "outputs": [],
   "source": [
    "print(hist_transactions.columns[hist_transactions.isna().any()].tolist())\n",
    "print(new_merchant_transactions.columns[new_merchant_transactions.isna().any()].tolist())\n"
   ]
  },
  {
   "cell_type": "code",
   "execution_count": null,
   "metadata": {},
   "outputs": [],
   "source": [
    "hist_transactions[hist_transactions==np.inf]=np.nan\n",
    "new_merchant_transactions[hist_transactions==np.inf]=np.nan"
   ]
  },
  {
   "cell_type": "code",
   "execution_count": null,
   "metadata": {},
   "outputs": [],
   "source": [
    "print(hist_transactions.columns[hist_transactions.isna().any()].tolist())\n",
    "print(new_merchant_transactions.columns[new_merchant_transactions.isna().any()].tolist())"
   ]
  },
  {
   "cell_type": "code",
   "execution_count": null,
   "metadata": {},
   "outputs": [],
   "source": [
    "hist_transactions[hist_transactions['purchase_amount'] <0 ].shape"
   ]
  },
  {
   "cell_type": "code",
   "execution_count": null,
   "metadata": {},
   "outputs": [],
   "source": [
    "hist_transactions[hist_transactions['purchase_amount'] >0 ].shape"
   ]
  },
  {
   "cell_type": "code",
   "execution_count": null,
   "metadata": {},
   "outputs": [],
   "source": [
    "print(hist_transactions.shape)\n",
    "print(new_merchant_transactions.shape)"
   ]
  },
  {
   "cell_type": "markdown",
   "metadata": {},
   "source": [
    "#### Trying a few different transformations on the variables of interest to see if they normalize after transformations"
   ]
  },
  {
   "cell_type": "code",
   "execution_count": null,
   "metadata": {},
   "outputs": [],
   "source": [
    "#This block considers all variables and can be used iteratively to minimize re-running code\n",
    "#We can limit the variables of interest if we want to\n",
    "def Plot(varname,dataset):   \n",
    "    f, (ax1,ax2,ax3) = plt.subplots(1, 3, figsize=(20,4))\n",
    "    \n",
    "    ax1.set_title('Before Log for var:' + varname)\n",
    "    ax2.set_title('After Log for var:' + varname)\n",
    "    ax3.set_title('After Sqrt for var:' + varname) \n",
    "    \n",
    "    sns.distplot(dataset[varname].fillna(0),ax=ax1,fit=norm)   \n",
    "    sns.distplot((np.log(dataset[varname]).fillna(0)),ax=ax2,fit=norm)\n",
    "    sns.distplot((np.sqrt(dataset[varname]).fillna(0)),ax=ax3,fit=norm)    \n",
    "    #f.savefig(varname+\".png\")\n",
    "    plt.show()\n",
    "   "
   ]
  },
  {
   "cell_type": "code",
   "execution_count": null,
   "metadata": {},
   "outputs": [],
   "source": [
    "Plot('merchant_category_id',hist_transactions)"
   ]
  },
  {
   "cell_type": "code",
   "execution_count": null,
   "metadata": {},
   "outputs": [],
   "source": [
    "Plot('category_2',hist_transactions)"
   ]
  },
  {
   "cell_type": "code",
   "execution_count": null,
   "metadata": {},
   "outputs": [],
   "source": [
    "Plot('city_id',hist_transactions)"
   ]
  },
  {
   "cell_type": "code",
   "execution_count": null,
   "metadata": {},
   "outputs": [],
   "source": [
    "Plot('subsector_id',hist_transactions)"
   ]
  },
  {
   "cell_type": "code",
   "execution_count": null,
   "metadata": {},
   "outputs": [],
   "source": [
    "Plot('state_id',hist_transactions)"
   ]
  },
  {
   "cell_type": "code",
   "execution_count": null,
   "metadata": {},
   "outputs": [],
   "source": [
    "#loading csv\n",
    "merchants = pd.read_csv('E:/ELOData/merchants_transformed.csv')\n",
    "merchants.head() "
   ]
  },
  {
   "cell_type": "code",
   "execution_count": null,
   "metadata": {},
   "outputs": [],
   "source": [
    "hist_transactions.sort_values(['card_id','merchant_id']).head(5)"
   ]
  },
  {
   "cell_type": "code",
   "execution_count": null,
   "metadata": {},
   "outputs": [],
   "source": [
    "hist_transactions[hist_transactions['merchant_id']=='M_ID_ebbdb42da6'].sort_values(['card_id']).head(10)"
   ]
  },
  {
   "cell_type": "code",
   "execution_count": null,
   "metadata": {},
   "outputs": [],
   "source": [
    "merchants[merchants['merchant_id']=='M_ID_ebbdb42da6'].head()"
   ]
  },
  {
   "cell_type": "code",
   "execution_count": null,
   "metadata": {},
   "outputs": [],
   "source": [
    "hist_transactions[hist_transactions['merchant_id']==\"M_ID_fc7d7969c3\"].purchase_amount.value_counts()"
   ]
  },
  {
   "cell_type": "code",
   "execution_count": null,
   "metadata": {},
   "outputs": [],
   "source": [
    "hist_transactions[(hist_transactions['merchant_id']==\"M_ID_fc7d7969c3\")]"
   ]
  },
  {
   "cell_type": "code",
   "execution_count": null,
   "metadata": {},
   "outputs": [],
   "source": [
    "merchants[merchants['merchant_category_id']==661].head(10)"
   ]
  },
  {
   "cell_type": "code",
   "execution_count": null,
   "metadata": {},
   "outputs": [],
   "source": [
    "new_merchant_transactions[new_merchant_transactions['merchant_id']==\"M_ID_fc7d7969c3\"].purchase_amount.value_counts()"
   ]
  },
  {
   "cell_type": "code",
   "execution_count": null,
   "metadata": {},
   "outputs": [],
   "source": [
    "new_merchant_transactions[new_merchant_transactions['merchant_id']==\"M_ID_fc7d7969c3\"].purchase_amount.value_counts()"
   ]
  },
  {
   "cell_type": "code",
   "execution_count": null,
   "metadata": {
    "scrolled": true
   },
   "outputs": [],
   "source": [
    "hist_transactions[ (hist_transactions['card_id']=='C_ID_989c3d4981')].sort_values('purchase_date',ascending=True)['purchase_amount'].std()"
   ]
  },
  {
   "cell_type": "code",
   "execution_count": null,
   "metadata": {},
   "outputs": [],
   "source": [
    "new_merchant_transactions[new_merchant_transactions['card_id']=='C_ID_989c3d4981'].head()"
   ]
  },
  {
   "cell_type": "code",
   "execution_count": null,
   "metadata": {},
   "outputs": [],
   "source": [
    "#C_ID_bbc950fc99/C_ID_ba98edb1f6\n",
    "print(hist_transactions[(hist_transactions['authorized_flag'] == 'Y') & (hist_transactions['card_id']=='C_ID_ba98edb1f6')]['purchase_amount'].sum())\n",
    "print(#C_ID_bbc950fc99/C_ID_ba98edb1f6\n",
    "hist_transactions[(hist_transactions['authorized_flag'] == 'Y') & (hist_transactions['card_id']=='C_ID_bbc950fc99')]['purchase_amount'].sum())\n",
    "print(hist_transactions[(hist_transactions['authorized_flag'] == 'Y') & (hist_transactions['card_id']=='C_ID_176ed894ed')]['purchase_amount'].sum())\n",
    "\n",
    "print(hist_transactions[(hist_transactions['authorized_flag'] == 'Y') & (hist_transactions['card_id']=='C_ID_989c3d4981')]['purchase_amount'].sum())\n",
    "\n",
    "\n"
   ]
  },
  {
   "cell_type": "code",
   "execution_count": null,
   "metadata": {},
   "outputs": [],
   "source": [
    "cards = hist_transactions[hist_transactions['merchant_id']==\"M_ID_fc7d7969c3\"]['card_id'].value_counts()"
   ]
  },
  {
   "cell_type": "code",
   "execution_count": null,
   "metadata": {},
   "outputs": [],
   "source": [
    "hist_transactions[hist_transactions['card_id'].isin(cards.index.values)].groupby(['card_id','merchant_id']).size().reset_index()"
   ]
  },
  {
   "cell_type": "code",
   "execution_count": null,
   "metadata": {},
   "outputs": [],
   "source": [
    "hist_transactions[hist_transactions['card_id'].isin(cards.index.values)].groupby(['card_id']).merchant_id.nunique().sort_values(ascending=True)"
   ]
  },
  {
   "cell_type": "code",
   "execution_count": null,
   "metadata": {},
   "outputs": [],
   "source": [
    "hist_transactions.to_csv('/Users/rajmati.marlecha/Documents/elo-merchant-category-recommendation/hist_trans_transformed.csv', index = False, header = True)\n",
    "new_merchant_transactions.to_csv('/Users/rajmati.marlecha/Documents/elo-merchant-category-recommendation/new_trans_transformed.csv', index = False, header = True)"
   ]
  }
 ],
 "metadata": {
  "kernelspec": {
   "display_name": "Python 3",
   "language": "python",
   "name": "python3"
  },
  "language_info": {
   "codemirror_mode": {
    "name": "ipython",
    "version": 3
   },
   "file_extension": ".py",
   "mimetype": "text/x-python",
   "name": "python",
   "nbconvert_exporter": "python",
   "pygments_lexer": "ipython3",
   "version": "3.7.4"
  }
 },
 "nbformat": 4,
 "nbformat_minor": 2
}
